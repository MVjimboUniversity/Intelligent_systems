{
 "cells": [
  {
   "cell_type": "code",
   "execution_count": null,
   "metadata": {},
   "outputs": [],
   "source": [
    "import pandas as pd"
   ]
  },
  {
   "cell_type": "markdown",
   "metadata": {},
   "source": [
    "#### Загрузить данные в pandas по url=https://raw.githubusercontent.com/justmarkham/DAT8/master/data/chipotle.tsv"
   ]
  },
  {
   "cell_type": "code",
   "execution_count": null,
   "metadata": {},
   "outputs": [],
   "source": [
    "url = \"https://raw.githubusercontent.com/justmarkham/DAT8/master/data/chipotle.tsv\"\n",
    "df = pd.read_csv(url, sep = \"\\t\")"
   ]
  },
  {
   "cell_type": "markdown",
   "metadata": {},
   "source": [
    "#### 1. Вывести: кол-во наблюдений в датасете"
   ]
  },
  {
   "cell_type": "code",
   "execution_count": null,
   "metadata": {},
   "outputs": [],
   "source": [
    "print(len(df))"
   ]
  },
  {
   "cell_type": "code",
   "execution_count": null,
   "metadata": {},
   "outputs": [],
   "source": [
    "print(df)"
   ]
  },
  {
   "cell_type": "markdown",
   "metadata": {},
   "source": [
    "#### 5. Измените тип переменной item_price c с помощью лямбды функции"
   ]
  },
  {
   "cell_type": "markdown",
   "metadata": {},
   "source": [
    " Item_sum = item_price * quantity"
   ]
  },
  {
   "cell_type": "code",
   "execution_count": null,
   "metadata": {},
   "outputs": [],
   "source": [
    "df[\"item_sum\"] = df.apply(lambda x: float(x[\"item_price\"][1:-1]), axis=1) \n",
    "df[\"item_price\"] = df.apply(lambda x: float(x[\"item_sum\"])/x[\"quantity\"], axis=1) "
   ]
  },
  {
   "cell_type": "markdown",
   "metadata": {},
   "source": [
    "### Создание нового фрейма "
   ]
  },
  {
   "cell_type": "markdown",
   "metadata": {},
   "source": [
    "df_modified - содержит все элементы без and"
   ]
  },
  {
   "cell_type": "code",
   "execution_count": null,
   "metadata": {},
   "outputs": [],
   "source": [
    "df_and_only = df[df[\"item_name\"].str.find(\"and\") != -1]\n",
    "df_modified = df.drop(df_and_only.index).reset_index()\n",
    "df_modified = df_modified.drop('index', axis=1)\n",
    "df_chips = df[df[\"item_name\"] == \"Chips\"].drop_duplicates().head(1)\n",
    "chips_price = df_chips.item_price.values[0]\n",
    "df_chips = df_and_only.copy()\n",
    "df_chips[\"item_name\"] = \"Chips\"\n",
    "df_chips[\"item_price\"] = chips_price\n",
    "df_sause = df_and_only.copy()\n",
    "df_sause[\"item_name\"] = df_sause.apply(lambda x: x[\"item_name\"][10:], axis=1)\n",
    "df_sause[\"item_price\"] = df_sause[\"item_price\"] - chips_price\n",
    "df_and_only = pd.concat([df_chips, df_sause], ignore_index=True)\n",
    "df_modified = pd.concat([df_modified, df_and_only], ignore_index=True)"
   ]
  },
  {
   "cell_type": "markdown",
   "metadata": {},
   "source": [
    "#### 2. Вывести названия столбцов"
   ]
  },
  {
   "cell_type": "code",
   "execution_count": null,
   "metadata": {},
   "outputs": [],
   "source": [
    "print(df.columns.values) # df.columns.tolist()"
   ]
  },
  {
   "cell_type": "markdown",
   "metadata": {},
   "source": [
    "#### 3. Определить самую частую позицию (item) в заказе "
   ]
  },
  {
   "cell_type": "code",
   "execution_count": null,
   "metadata": {},
   "outputs": [],
   "source": [
    "# unique_df = df.groupby([\"order_id\", \"item_name\"]).count().reset_index()\n",
    "# unique_df = unique_df[unique_df[\"quantity\"] >= 2][[\"order_id\", \"item_name\",\"quantity\"]]\n",
    "# correct_df = df.loc[~df[\"order_id\"].isin(unique_df[\"order_id\"])]\n",
    "# incorrect_df = df.loc[df[\"order_id\"].isin(unique_df[\"order_id\"]), ['item_name', 'choice_description', 'item_price']].drop_duplicates()"
   ]
  },
  {
   "cell_type": "code",
   "execution_count": null,
   "metadata": {},
   "outputs": [],
   "source": [
    "print(df_modified.groupby(\"item_name\").agg({\"quantity\":\"sum\"}).sort_values(\"quantity\", ascending=False)) #.head(1).index.values) # либо tolist()"
   ]
  },
  {
   "cell_type": "markdown",
   "metadata": {},
   "source": [
    "#### 4. Построить гистрограмму частоты заказов по позициям (item )"
   ]
  },
  {
   "cell_type": "markdown",
   "metadata": {},
   "source": [
    "Ограничимся 10 наиболее часто заказываемыми позициями"
   ]
  },
  {
   "cell_type": "code",
   "execution_count": null,
   "metadata": {},
   "outputs": [],
   "source": [
    "import matplotlib.pyplot as plt\n",
    "\n",
    "df_hist = df_modified.groupby(\"item_name\", as_index = False).agg({\"quantity\":\"sum\"}).sort_values(\"quantity\", ascending=False).head(10)\n",
    "plt.barh(df_hist.item_name.values, df_hist.quantity.values)\n",
    "plt.xlabel(\"Number of orders\")"
   ]
  },
  {
   "cell_type": "markdown",
   "metadata": {},
   "source": [
    "#### 6. Построить гистограмму кол-во денег заработанных по каждой позиции (item)"
   ]
  },
  {
   "cell_type": "code",
   "execution_count": null,
   "metadata": {},
   "outputs": [],
   "source": [
    "df_hist_sum = df_modified.groupby(\"item_name\", as_index = False).agg({\"item_sum\":\"sum\"}).sort_values(\"item_sum\", ascending=False).head(10)\n",
    "plt.barh(df_hist_sum.item_name.values, df_hist_sum.item_sum.values)\n",
    "plt.xlabel(\"Sum in dollars\")"
   ]
  },
  {
   "cell_type": "markdown",
   "metadata": {},
   "source": [
    "#### 7. Средняя сумма заказа? (минимум 2 способа)"
   ]
  },
  {
   "cell_type": "code",
   "execution_count": null,
   "metadata": {},
   "outputs": [],
   "source": [
    "print(df.groupby(\"order_id\").agg({\"item_sum\":\"sum\"}).mean())\n",
    "sum = df[\"item_sum\"].sum()\n",
    "num = len(df[\"order_id\"].unique())\n",
    "print(sum/num)"
   ]
  },
  {
   "cell_type": "markdown",
   "metadata": {},
   "source": [
    "#### 8. Выведите среднее, минимальное и максимальное, медианное значения позиций в заказе"
   ]
  },
  {
   "cell_type": "code",
   "execution_count": null,
   "metadata": {},
   "outputs": [],
   "source": [
    "print(df.groupby(\"order_id\").agg({\"item_price\":[\"min\", \"max\", \"mean\", \"median\"]}))"
   ]
  },
  {
   "cell_type": "markdown",
   "metadata": {},
   "source": [
    "#### 9. Определить статистику заказов стейков, а также статистику заказов прожарки."
   ]
  },
  {
   "cell_type": "markdown",
   "metadata": {},
   "source": [
    "- df_steak - содержит все блюда, содержашие в своем имени слово \"Steak\". \n",
    "- В полях \"mild\", \"medium\", \"hot\" указывается сколько раз упоминалось это слово в \"choice description\". \n",
    "- В поле \"list_fire\" содержится СПИСОК всех упоминаний \"mild\", \"medium\", \"hot\""
   ]
  },
  {
   "cell_type": "code",
   "execution_count": null,
   "metadata": {},
   "outputs": [],
   "source": [
    "import re\n",
    "import numpy as np\n",
    "dishes_lst = df[\"item_name\"].unique().tolist()\n",
    "steak_dishes_lst = list(filter(lambda x: x.find(\"Steak\") != -1, dishes_lst))\n",
    "df_steak = df[df[\"item_name\"].isin(steak_dishes_lst)].reset_index().drop('index', axis=1)\n",
    "print(\"Колличество заказов стейков \", df_steak[\"item_name\"].count())\n",
    "# print(df.loc[df[\"item_name\"].isin(steak_lst)].agg({\"order_id\":\"count\", \"quantity\":\"sum\"}))\n",
    "# res = df_steak.loc[df_steak[\"item_name\"].isin(steak_dishes_lst), [\"choice_description\"]][\"choice_description\"].unique().tolist()\n",
    "# for i in res:\n",
    "#     print(re.findall(r'\\((\\w+)\\)', i))\n",
    "# (Medium), (Mild), (Hot)\n",
    "\n",
    "\n",
    "def find_type(x, type):\n",
    "    res = re.findall(r'\\({}\\)'.format(type), x[\"choice_description\"])\n",
    "    return len(res) if res else np.nan\n",
    "\n",
    "def find_all_types(x):\n",
    "    res = re.findall(r'\\((\\w+)\\)', x[\"choice_description\"])\n",
    "    return res if res else np.nan\n",
    "\n",
    "\n",
    "df_steak['mild'] = df_steak.apply(lambda x: find_type(x, \"Mild\"), axis=1)\n",
    "df_steak['medium'] = df_steak.apply(lambda x: find_type(x, \"Medium\"), axis=1)\n",
    "df_steak['hot'] = df_steak.apply(lambda x: find_type(x, \"Hot\"), axis=1)\n",
    "df_steak = df_steak.astype({'mild': \"Int64\", 'medium': \"Int64\", 'hot': \"Int64\"})\n",
    "df_steak['list_fire'] = df_steak.apply(lambda x: find_all_types(x), axis=1)\n",
    "print(\"Колличество заказов стейков Mild \", df_steak[\"mild\"].count())\n",
    "print(\"Колличество заказов стейков Medium \", df_steak[\"medium\"].count())\n",
    "print(\"Колличество заказов стейков Hot \", df_steak[\"hot\"].count())"
   ]
  },
  {
   "cell_type": "markdown",
   "metadata": {},
   "source": [
    "#### 10. Добавить новый столбец цен на каждую позицию в заказе в рублях."
   ]
  },
  {
   "cell_type": "code",
   "execution_count": null,
   "metadata": {},
   "outputs": [],
   "source": [
    "df[\"item_price_rub\"]= df.apply(lambda x: x[\"item_price\"]*71, axis=1)\n",
    "print(df)"
   ]
  },
  {
   "cell_type": "markdown",
   "metadata": {},
   "source": [
    "#### 11. Сгруппировать заказы по входящим позициям в него. Отдельно сгруппировать по стейкам во всех видах прожарках."
   ]
  },
  {
   "cell_type": "code",
   "execution_count": null,
   "metadata": {},
   "outputs": [],
   "source": [
    "print(df_modified.groupby(\"item_name\").agg({\"order_id\":\"count\"}))\n",
    "print(df_steak.astype('str').groupby(['list_fire']).agg({\"order_id\":\"count\"})) #[df_steak.list_fire.notna()]"
   ]
  },
  {
   "cell_type": "markdown",
   "metadata": {},
   "source": [
    "#### 12. Определить цену по каждой позиции в отдельности. "
   ]
  },
  {
   "cell_type": "code",
   "execution_count": null,
   "metadata": {},
   "outputs": [],
   "source": [
    "df_unique_item = df_modified.groupby(\"item_name\", as_index=False).agg({\"item_price\":lambda x: list(set(x.values.tolist()))})\n",
    "print(df_unique_item)"
   ]
  },
  {
   "cell_type": "markdown",
   "metadata": {},
   "source": [
    "### Алгоритмы уменьшения размерности \n",
    "\n",
    "#### повторить эксперименты в главе 5.1 Qalitative Comparison of Multiple Algorithms статьи статьи UMAP: Uniform Manifold\n",
    "#### Approximation and Projection for Dimension Reduction (https://arxiv.org/pdf/1802.03426.pdf)\n",
    "\n",
    "#### необходимо воспроизвести все графики данной главы, соотнести выводы из статьи с вашими результатами."
   ]
  },
  {
   "cell_type": "markdown",
   "metadata": {},
   "source": [
    "#### COIL"
   ]
  },
  {
   "cell_type": "code",
   "execution_count": null,
   "metadata": {},
   "outputs": [],
   "source": [
    "import os\n",
    "import numpy as np\n",
    "import matplotlib.pyplot as plt\n",
    "import seaborn as sns\n",
    "from sklearn.decomposition import PCA\n",
    "from MulticoreTSNE import MulticoreTSNE as TSNE\n",
    "from umap import UMAP"
   ]
  },
  {
   "cell_type": "code",
   "execution_count": 7,
   "metadata": {},
   "outputs": [],
   "source": [
    "lst_dir = os.listdir('coil-20-proc')\n",
    "lst = []\n",
    "for pic_name in lst_dir:\n",
    "    image = plt.imread(f'coil-20-proc\\{pic_name}', format='png')\n",
    "    lst.append(image.ravel())\n",
    "\n",
    "labels_coil = [i for i in range(1, 21) for k in range(72)]\n",
    "data_coil = np.array(lst)"
   ]
  },
  {
   "cell_type": "code",
   "execution_count": 4,
   "metadata": {},
   "outputs": [
    {
     "name": "stdout",
     "output_type": "stream",
     "text": [
      "[[0. 0. 0. ... 0. 0. 0.]\n",
      " [0. 0. 0. ... 0. 0. 0.]\n",
      " [0. 0. 0. ... 0. 0. 0.]\n",
      " ...\n",
      " [0. 0. 0. ... 0. 0. 0.]\n",
      " [0. 0. 0. ... 0. 0. 0.]\n",
      " [0. 0. 0. ... 0. 0. 0.]]\n"
     ]
    }
   ],
   "source": [
    "print(data_coil)"
   ]
  },
  {
   "cell_type": "markdown",
   "metadata": {},
   "source": [
    "#### MNIST"
   ]
  },
  {
   "cell_type": "code",
   "execution_count": 5,
   "metadata": {},
   "outputs": [],
   "source": [
    "import gzip\n",
    "\n",
    "def uz_data(file_name, num_images):\n",
    "    with gzip.open(file_name, 'r') as f:\n",
    "        image_size = 28\n",
    "        f.read(16)\n",
    "        buf = f.read(image_size * image_size * num_images)\n",
    "        data = np.frombuffer(buf, dtype=np.uint8).astype(np.float32)\n",
    "        data = data.reshape(num_images, image_size*image_size)\n",
    "    return data\n",
    "        \n",
    "def uz_labels(file_name, num_labels):\n",
    "    with gzip.open(file_name, 'r') as f:\n",
    "        f.read(8)\n",
    "        buf = f.read(num_labels)\n",
    "        labels = np.frombuffer(buf, dtype=np.uint8).astype(np.int64)\n",
    "    return labels"
   ]
  },
  {
   "cell_type": "code",
   "execution_count": 8,
   "metadata": {},
   "outputs": [],
   "source": [
    "data_mnist = np.concatenate([uz_data('mnist/train-images-idx3-ubyte.gz', 60000), uz_data('mnist/train-images-idx3-ubyte.gz', 10000)], axis=0)\n",
    "labels_mnist = np.concatenate([uz_labels('mnist/train-labels-idx1-ubyte.gz', 60000), uz_labels('mnist/train-labels-idx1-ubyte.gz', 10000)], axis=0)"
   ]
  },
  {
   "cell_type": "code",
   "execution_count": 9,
   "metadata": {},
   "outputs": [
    {
     "name": "stdout",
     "output_type": "stream",
     "text": [
      "(70000, 784)\n"
     ]
    }
   ],
   "source": [
    "print(data_mnist.shape)"
   ]
  },
  {
   "cell_type": "code",
   "execution_count": 10,
   "metadata": {},
   "outputs": [
    {
     "name": "stdout",
     "output_type": "stream",
     "text": [
      "(70000,)\n"
     ]
    }
   ],
   "source": [
    "print(labels_mnist.shape)"
   ]
  },
  {
   "cell_type": "markdown",
   "metadata": {},
   "source": [
    "#### FashionMNIST"
   ]
  },
  {
   "cell_type": "code",
   "execution_count": 11,
   "metadata": {},
   "outputs": [],
   "source": [
    "data_fmnist = np.concatenate([uz_data('fmnist/train-images-idx3-ubyte.gz', 60000), uz_data('fmnist/train-images-idx3-ubyte.gz', 10000)], axis=0)\n",
    "labels_fmnist = np.concatenate([uz_labels('fmnist/train-labels-idx1-ubyte.gz', 60000), uz_labels('fmnist/train-labels-idx1-ubyte.gz', 10000)], axis=0)"
   ]
  },
  {
   "cell_type": "markdown",
   "metadata": {},
   "source": [
    "#### Google News"
   ]
  },
  {
   "cell_type": "code",
   "execution_count": 2,
   "metadata": {},
   "outputs": [],
   "source": [
    "from gensim.models import KeyedVectors\n",
    "\n",
    "google_news_path = \"GoogleNews/GoogleNews-vectors-negative300.bin.gz\"\n",
    "\n",
    "model = KeyedVectors.load_word2vec_format(google_news_path, binary=True)"
   ]
  },
  {
   "cell_type": "code",
   "execution_count": 3,
   "metadata": {},
   "outputs": [
    {
     "name": "stdout",
     "output_type": "stream",
     "text": [
      "(3000000, 300)\n"
     ]
    }
   ],
   "source": [
    "print(model.vectors.shape)"
   ]
  },
  {
   "cell_type": "markdown",
   "metadata": {},
   "source": [
    "#### Снижение размерности"
   ]
  },
  {
   "cell_type": "markdown",
   "metadata": {},
   "source": [
    "##### PCA"
   ]
  },
  {
   "cell_type": "code",
   "execution_count": 29,
   "metadata": {},
   "outputs": [],
   "source": [
    "pca = PCA(n_components=2)"
   ]
  },
  {
   "cell_type": "code",
   "execution_count": null,
   "metadata": {},
   "outputs": [],
   "source": [
    "data_coil_pca = pca.fit(data_coil).transform(data_coil)"
   ]
  },
  {
   "cell_type": "code",
   "execution_count": 27,
   "metadata": {},
   "outputs": [],
   "source": [
    "data_mnist_pca = pca.fit(data_mnist).transform(data_mnist)"
   ]
  },
  {
   "cell_type": "code",
   "execution_count": 41,
   "metadata": {},
   "outputs": [],
   "source": [
    "data_fmnist_pca = pca.fit(data_fmnist).transform(data_fmnist)"
   ]
  },
  {
   "cell_type": "markdown",
   "metadata": {},
   "source": [
    "##### t-SNE"
   ]
  },
  {
   "cell_type": "code",
   "execution_count": 9,
   "metadata": {},
   "outputs": [],
   "source": [
    "tsne = TSNE(n_jobs=4)"
   ]
  },
  {
   "cell_type": "code",
   "execution_count": null,
   "metadata": {},
   "outputs": [],
   "source": [
    "data_coil_tsne = tsne.fit_transform(data_coil)"
   ]
  },
  {
   "cell_type": "code",
   "execution_count": null,
   "metadata": {},
   "outputs": [],
   "source": [
    "data_mnist_tsne = tsne.fit_transform(data_mnist)"
   ]
  },
  {
   "cell_type": "code",
   "execution_count": null,
   "metadata": {},
   "outputs": [],
   "source": [
    "data_fmnist_tsne = tsne.fit_transform(data_fmnist)"
   ]
  },
  {
   "cell_type": "markdown",
   "metadata": {},
   "source": [
    "##### UMAP"
   ]
  },
  {
   "cell_type": "code",
   "execution_count": 4,
   "metadata": {},
   "outputs": [],
   "source": [
    "umap = UMAP(n_components=2)"
   ]
  },
  {
   "cell_type": "code",
   "execution_count": 18,
   "metadata": {},
   "outputs": [],
   "source": [
    "data_coil_umap = umap.fit_transform(data_coil)"
   ]
  },
  {
   "cell_type": "code",
   "execution_count": null,
   "metadata": {},
   "outputs": [],
   "source": [
    "data_mnist_umap = umap.fit_transform(data_mnist)"
   ]
  },
  {
   "cell_type": "code",
   "execution_count": null,
   "metadata": {},
   "outputs": [],
   "source": [
    "data_fmnist_umap = umap.fit_transform(data_fmnist)"
   ]
  },
  {
   "cell_type": "code",
   "execution_count": null,
   "metadata": {},
   "outputs": [],
   "source": [
    "data_google_umap = umap.fit_transform(model.vectors)"
   ]
  },
  {
   "cell_type": "code",
   "execution_count": 22,
   "metadata": {},
   "outputs": [
    {
     "data": {
      "image/png": "[encoded data removed]",
      "text/plain": [
       "<Figure size 1296x1296 with 2 Axes>"
      ]
     },
     "metadata": {},
     "output_type": "display_data"
    }
   ],
   "source": [
    "plt.figure(figsize=(18, 18))\n",
    "# plt.subplot(441)\n",
    "# sns.scatterplot(x=data_coil_pca[:, 0], y=data_coil_pca[:, 1], hue=labels_coil, palette=sns.color_palette(\"muted\", 20), legend=False, s=10, linewidth=0)\n",
    "# plt.xticks([])\n",
    "# plt.yticks([])\n",
    "# plt.subplot(442)\n",
    "# sns.scatterplot(x=data_mnist_pca[:, 0], y=data_mnist_pca[:, 1], hue=labels_mnist, palette=sns.color_palette(\"muted\", 10), legend=False, s=5, linewidth=0)\n",
    "# plt.xticks([])\n",
    "# plt.yticks([])\n",
    "# plt.subplot(443)\n",
    "# sns.scatterplot(x=data_fmnist_pca[:, 0], y=data_fmnist_pca[:, 1], hue=labels_fmnist, palette=sns.color_palette(\"muted\", 10), legend=False, s=6, linewidth=0)\n",
    "# plt.xticks([])\n",
    "# plt.yticks([])\n",
    "plt.subplot(445)\n",
    "sns.scatterplot(x=data_coil_tsne[:, 0], y=data_coil_tsne[:, 1], hue=labels_coil, palette=sns.color_palette(\"muted\", 20), legend=False, s=5, linewidth=0)\n",
    "plt.xticks([])\n",
    "plt.yticks([])\n",
    "plt.subplot(446)\n",
    "sns.scatterplot(x=data_coil_umap[:, 0], y=data_coil_umap[:, 1], hue=labels_coil, palette=sns.color_palette(\"muted\", 20), legend=False, s=4, linewidth=0)\n",
    "plt.xticks([])\n",
    "plt.yticks([])\n",
    "\n",
    "plt.subplots_adjust(wspace=0, hspace=0)"
   ]
  },
  {
   "cell_type": "code",
   "execution_count": null,
   "metadata": {},
   "outputs": [],
   "source": []
  }
 ],
 "metadata": {
  "kernelspec": {
   "display_name": "Python 3",
   "language": "python",
   "name": "python3"
  },
  "language_info": {
   "codemirror_mode": {
    "name": "ipython",
    "version": 3
   },
   "file_extension": ".py",
   "mimetype": "text/x-python",
   "name": "python",
   "nbconvert_exporter": "python",
   "pygments_lexer": "ipython3",
   "version": "3.7.6"
  }
 },
 "nbformat": 4,
 "nbformat_minor": 5
}
