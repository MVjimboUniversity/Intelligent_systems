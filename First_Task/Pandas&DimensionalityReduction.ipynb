{
 "cells": [
  {
   "cell_type": "code",
   "execution_count": null,
   "metadata": {},
   "outputs": [],
   "source": [
    "import pandas as pd"
   ]
  },
  {
   "cell_type": "markdown",
   "metadata": {},
   "source": [
    "#### Загрузить данные в pandas по url=https://raw.githubusercontent.com/justmarkham/DAT8/master/data/chipotle.tsv"
   ]
  },
  {
   "cell_type": "code",
   "execution_count": null,
   "metadata": {},
   "outputs": [],
   "source": [
    "url = \"https://raw.githubusercontent.com/justmarkham/DAT8/master/data/chipotle.tsv\"\n",
    "df = pd.read_csv(url, sep = \"\\t\")"
   ]
  },
  {
   "cell_type": "markdown",
   "metadata": {},
   "source": [
    "#### 1. Вывести: кол-во наблюдений в датасете"
   ]
  },
  {
   "cell_type": "code",
   "execution_count": null,
   "metadata": {},
   "outputs": [],
   "source": [
    "print(len(df))"
   ]
  },
  {
   "cell_type": "code",
   "execution_count": null,
   "metadata": {},
   "outputs": [],
   "source": [
    "print(df)"
   ]
  },
  {
   "cell_type": "markdown",
   "metadata": {},
   "source": [
    "#### 2. Вывести названия столбцов"
   ]
  },
  {
   "cell_type": "code",
   "execution_count": null,
   "metadata": {},
   "outputs": [],
   "source": [
    "print(df.columns.values) # df.columns.tolist()"
   ]
  },
  {
   "cell_type": "markdown",
   "metadata": {},
   "source": [
    "#### 3. Определить самую частую позицию (item) в заказе "
   ]
  },
  {
   "cell_type": "code",
   "execution_count": null,
   "metadata": {},
   "outputs": [],
   "source": [
    "unique_df = df.groupby([\"order_id\", \"item_name\"]).count().reset_index()\n",
    "unique_df = unique_df[unique_df[\"quantity\"] >= 2][[\"order_id\", \"item_name\",\"quantity\"]]\n",
    "correct_df = df.loc[~df[\"order_id\"].isin(unique_df[\"order_id\"])]\n",
    "incorrect_df = df.loc[df[\"order_id\"].isin(unique_df[\"order_id\"]), ['item_name', 'choice_description', 'item_price']].drop_duplicates()"
   ]
  },
  {
   "cell_type": "code",
   "execution_count": null,
   "metadata": {},
   "outputs": [],
   "source": [
    "print(df.groupby(\"item_name\").agg({\"quantity\":\"sum\"}).sort_values(\"quantity\", ascending=False).head(1).index.values) # либо tolist()"
   ]
  },
  {
   "cell_type": "markdown",
   "metadata": {},
   "source": [
    "#### 4. Построить гистрограмму частоты заказов по позициям (item )"
   ]
  },
  {
   "cell_type": "code",
   "execution_count": null,
   "metadata": {},
   "outputs": [],
   "source": [
    "hist = df.groupby(\"item_name\").agg({\"quantity\":\"sum\"}).sort_values(\"quantity\", ascending=False).hist()\n",
    "fig = hist.get_figure()"
   ]
  },
  {
   "cell_type": "markdown",
   "metadata": {},
   "source": [
    "#### 5. Измените тип переменной item_price c с помощью лямбды функции"
   ]
  },
  {
   "cell_type": "code",
   "execution_count": null,
   "metadata": {},
   "outputs": [],
   "source": [
    "df[\"item_price_int\"] = df.apply(lambda x: float(x[\"item_price\"][1:-1]), axis=1) "
   ]
  },
  {
   "cell_type": "markdown",
   "metadata": {},
   "source": [
    "#### 6. Построить гистограмму кол-во денег заработанных по каждой позиции (item)"
   ]
  },
  {
   "cell_type": "markdown",
   "metadata": {},
   "source": [
    "#### 7. Средняя сумма заказа? (минимум 2 способа)"
   ]
  },
  {
   "cell_type": "code",
   "execution_count": null,
   "metadata": {},
   "outputs": [],
   "source": [
    "print(df.groupby(\"order_id\").agg({\"item_price_int\":\"sum\"}).mean())\n",
    "sum = df[\"item_price_int\"].sum()\n",
    "num = len(df[\"order_id\"].unique())\n",
    "print(sum/num)"
   ]
  },
  {
   "cell_type": "markdown",
   "metadata": {},
   "source": [
    "#### 8. Выведите среднее, минимальное и максимальное, медианное значения позиций в заказе"
   ]
  },
  {
   "cell_type": "code",
   "execution_count": null,
   "metadata": {},
   "outputs": [],
   "source": []
  },
  {
   "cell_type": "markdown",
   "metadata": {},
   "source": [
    "#### 9. Определить статистику заказов стейков, а также статистику заказов прожарки."
   ]
  },
  {
   "cell_type": "code",
   "execution_count": null,
   "metadata": {},
   "outputs": [],
   "source": [
    "import re\n",
    "import numpy as np\n",
    "dishes_lst = df[\"item_name\"].unique().tolist()\n",
    "steak_dishes_lst = list(filter(lambda x: x.find(\"Steak\") != -1, dishes_lst))\n",
    "df_steak = df[df[\"item_name\"].isin(steak_lst)].reset_index()\n",
    "# print(df.loc[df[\"item_name\"].isin(steak_lst)].agg({\"order_id\":\"count\", \"quantity\":\"sum\"}))\n",
    "# res = df_steak.loc[df_steak[\"item_name\"].isin(steak_lst), [\"choice_description\"]][\"choice_description\"].unique().tolist()\n",
    "# for i in res:\n",
    "#     print(re.findall(r'\\(\\w+\\)', i))\n",
    "# (Medium), (Mild), (Hot)\n",
    "\n",
    "\n",
    "def find_type(x, type):\n",
    "    res = re.findall(r'\\({}\\)'.format(type), x[\"choice_description\"])\n",
    "    return len(res) if res else np.NaN\n",
    "\n",
    "df_steak['mild']=df_steak.apply(lambda x: find_type(x, \"Mild\"), axis=1)\n",
    "df_steak['medium']=df_steak.apply(lambda x: find_type(x, \"Medium\"), axis=1)\n",
    "df_steak['hot']=df_steak.apply(lambda x: find_type(x, \"Hot\"), axis=1)\n",
    "df_steak = df_steak.astype({'mild': \"Int64\", 'medium': \"Int64\", 'hot': \"Int64\"})"
   ]
  },
  {
   "cell_type": "markdown",
   "metadata": {},
   "source": [
    "#### 10. Добавить новый столбец цен на каждую позицию в заказе в рублях."
   ]
  },
  {
   "cell_type": "code",
   "execution_count": null,
   "metadata": {},
   "outputs": [],
   "source": [
    "df[\"item_price_int_rub\"]= df.apply(lambda x: x[\"item_price_int\"]*71, axis=1)\n",
    "print(df)"
   ]
  },
  {
   "cell_type": "markdown",
   "metadata": {},
   "source": [
    "#### 11. Сгруппировать заказы по входящим позициям в него. Отдельно сгруппировать по стейкам во всех видах прожарках."
   ]
  },
  {
   "cell_type": "markdown",
   "metadata": {},
   "source": [
    "#### 12. Определить цену по каждой позиции в отдельности. "
   ]
  },
  {
   "cell_type": "code",
   "execution_count": null,
   "metadata": {},
   "outputs": [],
   "source": [
    "print(df[[\"item_name\", \"item_price_int\"]].drop_duplicates().reset_index())"
   ]
  },
  {
   "cell_type": "markdown",
   "metadata": {},
   "source": [
    "### Алгоритмы уменьшения размерности \n",
    "\n",
    "#### повторить эксперименты в главе 5.1 Qalitative Comparison of Multiple Algorithms статьи статьи UMAP: Uniform Manifold\n",
    "#### Approximation and Projection for Dimension Reduction (https://arxiv.org/pdf/1802.03426.pdf)\n",
    "\n",
    "#### необходимо воспроизвести все графики данной главы, соотнести выводы из статьи с вашими результатами."
   ]
  },
  {
   "cell_type": "code",
   "execution_count": null,
   "metadata": {},
   "outputs": [],
   "source": []
  }
 ],
 "metadata": {
  "kernelspec": {
   "display_name": "Python 3",
   "language": "python",
   "name": "python3"
  },
  "language_info": {
   "codemirror_mode": {
    "name": "ipython",
    "version": 3
   },
   "file_extension": ".py",
   "mimetype": "text/x-python",
   "name": "python",
   "nbconvert_exporter": "python",
   "pygments_lexer": "ipython3",
   "version": "3.7.6"
  }
 },
 "nbformat": 4,
 "nbformat_minor": 5
}
